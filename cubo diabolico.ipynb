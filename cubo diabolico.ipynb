{
 "cells": [
  {
   "cell_type": "code",
   "execution_count": 1,
   "metadata": {
    "collapsed": true
   },
   "outputs": [],
   "source": [
    "import numpy as np\n",
    "import itertools\n",
    "import somatools as smt\n",
    "import csv"
   ]
  },
  {
   "cell_type": "markdown",
   "metadata": {},
   "source": [
    "The diabolical cube is made up of the shapes b, c, d, e, h, g as defined below.  "
   ]
  },
  {
   "cell_type": "code",
   "execution_count": 2,
   "metadata": {
    "collapsed": true
   },
   "outputs": [],
   "source": [
    "b = smt.b\n",
    "c = smt.c\n",
    "d = smt.d\n",
    "e = smt.e\n",
    "h = smt.h\n",
    "g = smt.g"
   ]
  },
  {
   "cell_type": "code",
   "execution_count": 3,
   "metadata": {
    "collapsed": true
   },
   "outputs": [],
   "source": [
    "tX = smt.turn3D_X\n",
    "tY = smt.turn3D_Y\n",
    "tZ = smt.turn3D_Z\n",
    "sX = smt.shift3D_fX\n",
    "sY = smt.shift3D_fY\n",
    "sZ = smt.shift3D_fZ\n",
    "pict = smt.show3D_shape"
   ]
  },
  {
   "cell_type": "code",
   "execution_count": 4,
   "metadata": {
    "collapsed": true
   },
   "outputs": [],
   "source": [
    "# To remove repeated element in a list\n",
    "def cleaning(L):\n",
    "    S =[]\n",
    "    for x in L: \n",
    "        if x not in S: S.append(x)\n",
    "    return S"
   ]
  },
  {
   "cell_type": "markdown",
   "metadata": {},
   "source": [
    "Any shape allows three $\\pi/2$ rotations. The shifting depend on each shape according to the following list \n",
    "b : (1,2,2), c: (0,2,2), d: (1,1,2), e: (0,1,2), f: (0,0,2), g: (0,0,2)\n",
    "where the first, second and third  coordinate mean  the maximum number of shiftig in the X, the Y and the Z direction respectively.    "
   ]
  },
  {
   "cell_type": "code",
   "execution_count": 5,
   "metadata": {
    "collapsed": true
   },
   "outputs": [],
   "source": [
    "def posb():\n",
    "    Dm = [b]\n",
    "    Mappings = [sX, sY, sY, sZ, sZ, tX, tX, tX, tY, tY, tY, tZ, tZ, tZ]\n",
    "    for f in Mappings:\n",
    "        Cdm = map(f,Dm)\n",
    "        Dm = list(itertools.chain(Dm,Cdm))\n",
    "    return cleaning(Dm)\n",
    "\n",
    "def posc():\n",
    "    Dm = [c]\n",
    "    Mappings = [sX, sY, sZ, sZ, tX, tX, tX, tY, tY, tY, tZ, tZ, tZ]\n",
    "    for f in Mappings:\n",
    "        Cdm = map(f,Dm)\n",
    "        Dm = list(itertools.chain(Dm,Cdm))\n",
    "    return cleaning(Dm)\n",
    "\n",
    "def posd():\n",
    "    Dm = [d]\n",
    "    Mappings = [ sX, sY, sZ, sZ, tX, tX, tX, tY, tY, tY, tZ, tZ, tZ]\n",
    "    for f in Mappings:\n",
    "        Cdm = map(f,Dm)\n",
    "        Dm = list(itertools.chain(Dm,Cdm))\n",
    "    return cleaning(Dm)\n",
    "\n",
    "def pose():\n",
    "    Dm = [e]\n",
    "    Mappings = [sY, sZ, sZ, tX, tX, tX, tY, tY, tY, tZ, tZ, tZ]\n",
    "    for f in Mappings:\n",
    "        Cdm = map(f,Dm)\n",
    "        Dm = list(itertools.chain(Dm,Cdm))\n",
    "    return cleaning(Dm)\n",
    "\n",
    "\n",
    "def posh():\n",
    "    Dm = [h]\n",
    "    Mappings = [sZ, sZ, tX, tX, tX, tY, tY, tY, tZ, tZ, tZ]\n",
    "    for f in Mappings:\n",
    "        Cdm = map(f,Dm)\n",
    "        Dm = list(itertools.chain(Dm,Cdm))\n",
    "    return cleaning(Dm)\n",
    "def posg():\n",
    "    Dm = [g]\n",
    "    Mappings = [sZ, sZ, tX, tX, tX, tY, tY, tY, tZ, tZ, tZ]\n",
    "    for f in Mappings:\n",
    "        Cdm = map(f,Dm)\n",
    "        Dm = list(itertools.chain(Dm,Cdm))\n",
    "    return cleaning(Dm)"
   ]
  },
  {
   "cell_type": "code",
   "execution_count": 6,
   "metadata": {
    "collapsed": true
   },
   "outputs": [],
   "source": [
    "List_b = [np.array(x) for x in posb()]\n",
    "List_c = [np.array(x) for x in posc()]\n",
    "List_d = [np.array(x) for x in posd()]\n",
    "List_e = [np.array(x) for x in pose()]\n",
    "List_h = [np.array(x) for x in posh()]\n",
    "List_g = [np.array(x) for x in posg()]"
   ]
  },
  {
   "cell_type": "code",
   "execution_count": 7,
   "metadata": {
    "collapsed": false
   },
   "outputs": [
    {
     "name": "stdout",
     "output_type": "stream",
     "text": [
      "54 144 36 72 36 72\n"
     ]
    }
   ],
   "source": [
    "print(len(List_b), len(List_c), len(List_d),len(List_e),len(List_h), len(List_g) )"
   ]
  },
  {
   "cell_type": "code",
   "execution_count": 8,
   "metadata": {
    "collapsed": true
   },
   "outputs": [],
   "source": [
    "def check_ok(x):\n",
    "    return sum(x[0]*x[1]) == 0\n",
    "\n",
    "def supercheck_ok(x):\n",
    "    return sum(sum(x[0])*x[1]) == 0"
   ]
  },
  {
   "cell_type": "code",
   "execution_count": 9,
   "metadata": {
    "collapsed": true
   },
   "outputs": [],
   "source": [
    "def join(H, K):\n",
    "    raw = itertools.product(H, K)\n",
    "    HK =  np.array(list(filter(supercheck_ok,raw)) )\n",
    "    return [np.vstack([z[0], z[1]]) for z in HK]"
   ]
  },
  {
   "cell_type": "code",
   "execution_count": 10,
   "metadata": {
    "collapsed": true
   },
   "outputs": [],
   "source": [
    "gh_raw  = itertools.product(List_g, List_h)\n",
    "gh = np.array(list(filter(check_ok,gh_raw)))"
   ]
  },
  {
   "cell_type": "code",
   "execution_count": 11,
   "metadata": {
    "collapsed": false
   },
   "outputs": [
    {
     "data": {
      "text/plain": [
       "768"
      ]
     },
     "execution_count": 11,
     "metadata": {},
     "output_type": "execute_result"
    }
   ],
   "source": [
    "len(gh)"
   ]
  },
  {
   "cell_type": "code",
   "execution_count": 12,
   "metadata": {
    "collapsed": true
   },
   "outputs": [],
   "source": [
    "ghe = join(gh, List_e)"
   ]
  },
  {
   "cell_type": "code",
   "execution_count": 13,
   "metadata": {
    "collapsed": false
   },
   "outputs": [
    {
     "data": {
      "text/plain": [
       "6384"
      ]
     },
     "execution_count": 13,
     "metadata": {},
     "output_type": "execute_result"
    }
   ],
   "source": [
    "len(ghe)"
   ]
  },
  {
   "cell_type": "code",
   "execution_count": 14,
   "metadata": {
    "collapsed": true
   },
   "outputs": [],
   "source": [
    "ghed = join(ghe, List_d)"
   ]
  },
  {
   "cell_type": "code",
   "execution_count": 15,
   "metadata": {
    "collapsed": false
   },
   "outputs": [
    {
     "data": {
      "text/plain": [
       "6720"
      ]
     },
     "execution_count": 15,
     "metadata": {},
     "output_type": "execute_result"
    }
   ],
   "source": [
    "len(ghed)"
   ]
  },
  {
   "cell_type": "code",
   "execution_count": 16,
   "metadata": {
    "collapsed": true
   },
   "outputs": [],
   "source": [
    "ghedc = join(ghed, List_c)"
   ]
  },
  {
   "cell_type": "code",
   "execution_count": 17,
   "metadata": {
    "collapsed": false
   },
   "outputs": [
    {
     "data": {
      "text/plain": [
       "4896"
      ]
     },
     "execution_count": 17,
     "metadata": {},
     "output_type": "execute_result"
    }
   ],
   "source": [
    "len(ghedc)"
   ]
  },
  {
   "cell_type": "code",
   "execution_count": 18,
   "metadata": {
    "collapsed": true
   },
   "outputs": [],
   "source": [
    "Cube = join(ghedc, List_b)"
   ]
  },
  {
   "cell_type": "code",
   "execution_count": 19,
   "metadata": {
    "collapsed": false
   },
   "outputs": [
    {
     "data": {
      "text/plain": [
       "624"
      ]
     },
     "execution_count": 19,
     "metadata": {},
     "output_type": "execute_result"
    }
   ],
   "source": [
    "len(Cube)"
   ]
  },
  {
   "cell_type": "code",
   "execution_count": 20,
   "metadata": {
    "collapsed": true
   },
   "outputs": [],
   "source": [
    "lista = [x.tolist() for x in Cube]"
   ]
  },
  {
   "cell_type": "code",
   "execution_count": 21,
   "metadata": {
    "collapsed": true
   },
   "outputs": [],
   "source": [
    "nlista = cleaning(lista)"
   ]
  },
  {
   "cell_type": "code",
   "execution_count": 22,
   "metadata": {
    "collapsed": false
   },
   "outputs": [
    {
     "data": {
      "text/plain": [
       "624"
      ]
     },
     "execution_count": 22,
     "metadata": {},
     "output_type": "execute_result"
    }
   ],
   "source": [
    "len(nlista) "
   ]
  },
  {
   "cell_type": "code",
   "execution_count": 23,
   "metadata": {
    "collapsed": true
   },
   "outputs": [],
   "source": [
    "with open('CubeD.csv', 'w', newline='') as f:\n",
    "    writer = csv.writer(f)\n",
    "    writer.writerows(\"C\")\n",
    "    for i in range(len(Cube)):\n",
    "        row = Cube[i] \n",
    "        writer.writerow(row)"
   ]
  },
  {
   "cell_type": "code",
   "execution_count": 24,
   "metadata": {
    "collapsed": true
   },
   "outputs": [],
   "source": [
    "List_b = posb()\n",
    "with open('posb.csv', 'w', newline='') as f:\n",
    "    writer = csv.writer(f)\n",
    "    writer.writerows(\"b\")\n",
    "    for i in range(len(List_b)):\n",
    "        row = List_b[i] \n",
    "        writer.writerow(row)"
   ]
  },
  {
   "cell_type": "code",
   "execution_count": 25,
   "metadata": {
    "collapsed": true
   },
   "outputs": [],
   "source": [
    "List_c = posc()\n",
    "with open('posc.csv', 'w', newline='') as f:\n",
    "    writer = csv.writer(f)\n",
    "    writer.writerows(\"G\")\n",
    "    for i in range(len(List_c)):\n",
    "        row = List_c[i] \n",
    "        writer.writerow(row)"
   ]
  },
  {
   "cell_type": "code",
   "execution_count": 26,
   "metadata": {
    "collapsed": true
   },
   "outputs": [],
   "source": [
    "List_d = posd()\n",
    "with open('posd.csv', 'w', newline='') as f:\n",
    "    writer = csv.writer(f)\n",
    "    writer.writerows(\"d\")\n",
    "    for i in range(len(List_d)):\n",
    "        row = List_d[i] \n",
    "        writer.writerow(row)"
   ]
  },
  {
   "cell_type": "code",
   "execution_count": 27,
   "metadata": {
    "collapsed": true
   },
   "outputs": [],
   "source": [
    "List_e = pose()\n",
    "with open('pose.csv', 'w', newline='') as f:\n",
    "    writer = csv.writer(f)\n",
    "    writer.writerows(\"e\")\n",
    "    for i in range(len(List_e)):\n",
    "        row = List_e[i] \n",
    "        writer.writerow(row)"
   ]
  },
  {
   "cell_type": "code",
   "execution_count": 28,
   "metadata": {
    "collapsed": true
   },
   "outputs": [],
   "source": [
    "List_h = posh()\n",
    "with open('posh.csv', 'w', newline='') as f:\n",
    "    writer = csv.writer(f)\n",
    "    writer.writerows(\"h\")\n",
    "    for i in range(len(List_h)):\n",
    "        row = List_h[i] \n",
    "        writer.writerow(row)"
   ]
  },
  {
   "cell_type": "code",
   "execution_count": 29,
   "metadata": {
    "collapsed": true
   },
   "outputs": [],
   "source": [
    "List_g = posg()\n",
    "with open('posg.csv', 'w', newline='') as f:\n",
    "    writer = csv.writer(f)\n",
    "    writer.writerows(\"g\")\n",
    "    for i in range(len(List_g)):\n",
    "        row = List_g[i] \n",
    "        writer.writerow(row)"
   ]
  },
  {
   "cell_type": "code",
   "execution_count": null,
   "metadata": {
    "collapsed": true
   },
   "outputs": [],
   "source": []
  },
  {
   "cell_type": "code",
   "execution_count": null,
   "metadata": {
    "collapsed": true
   },
   "outputs": [],
   "source": []
  }
 ],
 "metadata": {
  "kernelspec": {
   "display_name": "Python 3",
   "language": "python",
   "name": "python3"
  },
  "language_info": {
   "codemirror_mode": {
    "name": "ipython",
    "version": 3
   },
   "file_extension": ".py",
   "mimetype": "text/x-python",
   "name": "python",
   "nbconvert_exporter": "python",
   "pygments_lexer": "ipython3",
   "version": "3.5.4"
  }
 },
 "nbformat": 4,
 "nbformat_minor": 1
}
