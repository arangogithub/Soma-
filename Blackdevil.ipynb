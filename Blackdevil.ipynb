{
 "cells": [
  {
   "cell_type": "code",
   "execution_count": 1,
   "metadata": {
    "collapsed": true
   },
   "outputs": [],
   "source": [
    "import numpy as np\n",
    "import itertools\n",
    "import somatools as smt\n",
    "import csv"
   ]
  },
  {
   "cell_type": "markdown",
   "metadata": {},
   "source": [
    "The black debil cube is made up of the shapes A, B, G, L, T, Z as defined below.  "
   ]
  },
  {
   "cell_type": "code",
   "execution_count": 2,
   "metadata": {
    "collapsed": false
   },
   "outputs": [],
   "source": [
    "A = smt.AA\n",
    "B = smt.BB\n",
    "G = smt.GAB\n",
    "L = smt.LL\n",
    "T = smt.TT\n",
    "Z = smt.ZZB"
   ]
  },
  {
   "cell_type": "code",
   "execution_count": 3,
   "metadata": {
    "collapsed": false
   },
   "outputs": [],
   "source": [
    "tX = smt.turn3D_X\n",
    "tY = smt.turn3D_Y\n",
    "tZ = smt.turn3D_Z\n",
    "sX = smt.shift3D_fX\n",
    "sY = smt.shift3D_fY\n",
    "sZ = smt.shift3D_fZ\n",
    "pict = smt.show3D_shape"
   ]
  },
  {
   "cell_type": "code",
   "execution_count": 4,
   "metadata": {
    "collapsed": true
   },
   "outputs": [],
   "source": [
    "# To remove repeated element in a list\n",
    "def cleaning(L):\n",
    "    S =[]\n",
    "    for x in L: \n",
    "        if x not in S: S.append(x)\n",
    "    return S"
   ]
  },
  {
   "cell_type": "markdown",
   "metadata": {},
   "source": [
    "Any shape allows three $\\pi/2$ rotations. The shifting depend on each shape according to the following list \n",
    "A : (1,1,1), B: (1,1,1), G: (1,0,1), L: (1,0,2), T: (0,1,2), Z: (1,1,0)\n",
    "where the first, second and third  coordinate mean  the maximum number of shiftig in the X, the Y and the Z direction respectively.    "
   ]
  },
  {
   "cell_type": "code",
   "execution_count": 5,
   "metadata": {
    "collapsed": true
   },
   "outputs": [],
   "source": [
    "def posA():\n",
    "    Dm = [A]\n",
    "    Mappings = [sX, sY, sZ, tX, tX, tX, tY, tY, tY, tZ, tZ, tZ]\n",
    "    for f in Mappings:\n",
    "        Cdm = map(f,Dm)\n",
    "        Dm = list(itertools.chain(Dm,Cdm))\n",
    "    return cleaning(Dm)\n",
    "\n",
    "def posB():\n",
    "    Dm = [B]\n",
    "    Mappings = [sX, sY, sZ, tX, tX, tX, tY, tY, tY, tZ, tZ, tZ]\n",
    "    for f in Mappings:\n",
    "        Cdm = map(f,Dm)\n",
    "        Dm = list(itertools.chain(Dm,Cdm))\n",
    "    return cleaning(Dm)\n",
    "\n",
    "def posG():\n",
    "    Dm = [G]\n",
    "    Mappings = [sX, sZ, tX, tX, tX, tY, tY, tY, tZ, tZ, tZ]\n",
    "    for f in Mappings:\n",
    "        Cdm = map(f,Dm)\n",
    "        Dm = list(itertools.chain(Dm,Cdm))\n",
    "    return cleaning(Dm)\n",
    "\n",
    "def posL():\n",
    "    Dm = [L]\n",
    "    Mappings = [sX, sY, sZ, sZ,tX, tX, tX, tY, tY, tY, tZ, tZ, tZ]\n",
    "    for f in Mappings:\n",
    "        Cdm = map(f,Dm)\n",
    "        Dm = list(itertools.chain(Dm,Cdm))\n",
    "    return cleaning(Dm)\n",
    "\n",
    "def posT():\n",
    "    Dm = [T]\n",
    "    Mappings = [sY, sZ, sZ,tX, tX, tX, tY, tY, tY, tZ, tZ, tZ]\n",
    "    for f in Mappings:\n",
    "        Cdm = map(f,Dm)\n",
    "        Dm = list(itertools.chain(Dm,Cdm))\n",
    "    return cleaning(Dm)\n",
    "\n",
    "\n",
    "def posZ():\n",
    "    Dm = [Z]\n",
    "    Mappings = [sX, sY, tX, tX, tX, tY, tY, tY, tZ, tZ, tZ]\n",
    "    for f in Mappings:\n",
    "        Cdm = map(f,Dm)\n",
    "        Dm = list(itertools.chain(Dm,Cdm))\n",
    "    return cleaning(Dm)"
   ]
  },
  {
   "cell_type": "code",
   "execution_count": 6,
   "metadata": {
    "collapsed": false
   },
   "outputs": [],
   "source": [
    "List_A = [np.array(x) for x in posA()]\n",
    "List_B = [np.array(x) for x in posB()]\n",
    "List_G = [np.array(x) for x in posG()]\n",
    "List_L = [np.array(x) for x in posL()]\n",
    "List_T = [np.array(x) for x in posT()]\n",
    "List_Z = [np.array(x) for x in posZ()]"
   ]
  },
  {
   "cell_type": "code",
   "execution_count": 7,
   "metadata": {
    "collapsed": false
   },
   "outputs": [
    {
     "name": "stdout",
     "output_type": "stream",
     "text": [
      "96 96 96 216 72 48\n"
     ]
    }
   ],
   "source": [
    "print(len(List_A), len(List_B), len(List_G),len(List_L),len(List_T), len(List_Z) )"
   ]
  },
  {
   "cell_type": "code",
   "execution_count": 8,
   "metadata": {
    "collapsed": true
   },
   "outputs": [],
   "source": [
    "def check_ok(x):\n",
    "    return sum(x[0]*x[1]) == 0\n",
    "\n",
    "def supercheck_ok(x):\n",
    "    return sum(sum(x[0])*x[1]) == 0"
   ]
  },
  {
   "cell_type": "code",
   "execution_count": 9,
   "metadata": {
    "collapsed": true
   },
   "outputs": [],
   "source": [
    "def join(H, K):\n",
    "    raw = itertools.product(H, K)\n",
    "    HK =  np.array(list(filter(supercheck_ok,raw)) )\n",
    "    return [np.vstack([z[0], z[1]]) for z in HK]"
   ]
  },
  {
   "cell_type": "code",
   "execution_count": 10,
   "metadata": {
    "collapsed": false
   },
   "outputs": [],
   "source": [
    "AB_raw  = itertools.product(List_A, List_B)\n",
    "AB = np.array(list(filter(check_ok,AB_raw)))"
   ]
  },
  {
   "cell_type": "code",
   "execution_count": 11,
   "metadata": {
    "collapsed": true
   },
   "outputs": [],
   "source": [
    "ABG = join(AB, List_G)"
   ]
  },
  {
   "cell_type": "code",
   "execution_count": 12,
   "metadata": {
    "collapsed": false
   },
   "outputs": [],
   "source": [
    "ABGL = join(ABG, List_L)"
   ]
  },
  {
   "cell_type": "code",
   "execution_count": 13,
   "metadata": {
    "collapsed": false
   },
   "outputs": [
    {
     "data": {
      "text/plain": [
       "949392"
      ]
     },
     "execution_count": 13,
     "metadata": {},
     "output_type": "execute_result"
    }
   ],
   "source": [
    "len(ABGL)"
   ]
  },
  {
   "cell_type": "code",
   "execution_count": 14,
   "metadata": {
    "collapsed": false
   },
   "outputs": [],
   "source": [
    "ABGLT = join(ABGL, List_T)"
   ]
  },
  {
   "cell_type": "code",
   "execution_count": 16,
   "metadata": {
    "collapsed": false
   },
   "outputs": [
    {
     "data": {
      "text/plain": [
       "1002264"
      ]
     },
     "execution_count": 16,
     "metadata": {},
     "output_type": "execute_result"
    }
   ],
   "source": [
    "len(ABGLT)"
   ]
  },
  {
   "cell_type": "code",
   "execution_count": 17,
   "metadata": {
    "collapsed": false
   },
   "outputs": [
    {
     "data": {
      "text/plain": [
       "array([[1, 0, 0, 1, 0, 0, 0, 0, 0, 0, 0, 0, 1, 1, 0, 0, 0, 0, 0, 0, 0, 0,\n",
       "        0, 0, 0, 0, 0],\n",
       "       [0, 0, 0, 0, 0, 0, 0, 0, 0, 0, 0, 0, 0, 0, 0, 1, 1, 0, 0, 0, 0, 1,\n",
       "        0, 0, 1, 0, 0],\n",
       "       [0, 0, 0, 0, 0, 0, 0, 0, 0, 0, 0, 1, 0, 0, 0, 0, 0, 0, 0, 1, 1, 0,\n",
       "        1, 0, 0, 1, 0],\n",
       "       [0, 1, 0, 0, 1, 0, 1, 1, 0, 0, 0, 0, 0, 0, 0, 0, 0, 0, 0, 0, 0, 0,\n",
       "        0, 0, 0, 0, 0],\n",
       "       [0, 0, 0, 0, 0, 0, 0, 0, 1, 0, 0, 0, 0, 0, 1, 0, 0, 1, 0, 0, 0, 0,\n",
       "        0, 0, 0, 0, 1]])"
      ]
     },
     "execution_count": 17,
     "metadata": {},
     "output_type": "execute_result"
    }
   ],
   "source": [
    "z = ABGLT[56]\n",
    "z"
   ]
  },
  {
   "cell_type": "code",
   "execution_count": 18,
   "metadata": {
    "collapsed": true
   },
   "outputs": [],
   "source": [
    "Cube = join(ABGLT, List_Z)"
   ]
  },
  {
   "cell_type": "code",
   "execution_count": 26,
   "metadata": {
    "collapsed": false
   },
   "outputs": [],
   "source": [
    "lista = [x.tolist() for x in Cube]"
   ]
  },
  {
   "cell_type": "code",
   "execution_count": 28,
   "metadata": {
    "collapsed": false
   },
   "outputs": [],
   "source": [
    "nlista = cleaning(lista)"
   ]
  },
  {
   "cell_type": "code",
   "execution_count": 29,
   "metadata": {
    "collapsed": false
   },
   "outputs": [
    {
     "data": {
      "text/plain": [
       "720"
      ]
     },
     "execution_count": 29,
     "metadata": {},
     "output_type": "execute_result"
    }
   ],
   "source": [
    "len(nlista) "
   ]
  },
  {
   "cell_type": "code",
   "execution_count": 31,
   "metadata": {
    "collapsed": false
   },
   "outputs": [],
   "source": [
    "z = nlista[230]"
   ]
  },
  {
   "cell_type": "code",
   "execution_count": 33,
   "metadata": {
    "collapsed": false
   },
   "outputs": [
    {
     "data": {
      "image/png": "[encoded data removed]",
      "text/plain": [
       "<matplotlib.figure.Figure at 0x7f08b01c2eb8>"
      ]
     },
     "metadata": {},
     "output_type": "display_data"
    }
   ],
   "source": [
    "pict(z[0])"
   ]
  },
  {
   "cell_type": "code",
   "execution_count": 34,
   "metadata": {
    "collapsed": false
   },
   "outputs": [
    {
     "data": {
      "image/png": "[encoded data removed]",
      "text/plain": [
       "<matplotlib.figure.Figure at 0x7f08af630358>"
      ]
     },
     "metadata": {},
     "output_type": "display_data"
    }
   ],
   "source": [
    "pict(z[1])"
   ]
  },
  {
   "cell_type": "code",
   "execution_count": 35,
   "metadata": {
    "collapsed": false
   },
   "outputs": [
    {
     "data": {
      "image/png": "[encoded data removed]",
      "text/plain": [
       "<matplotlib.figure.Figure at 0x7f08af5cf6a0>"
      ]
     },
     "metadata": {},
     "output_type": "display_data"
    }
   ],
   "source": [
    "pict(z[2])"
   ]
  },
  {
   "cell_type": "code",
   "execution_count": 36,
   "metadata": {
    "collapsed": false
   },
   "outputs": [
    {
     "data": {
      "image/png": "[encoded data removed]",
      "text/plain": [
       "<matplotlib.figure.Figure at 0x7f08b01eb8d0>"
      ]
     },
     "metadata": {},
     "output_type": "display_data"
    }
   ],
   "source": [
    "pict(z[3])"
   ]
  },
  {
   "cell_type": "code",
   "execution_count": 37,
   "metadata": {
    "collapsed": false
   },
   "outputs": [
    {
     "data": {
      "image/png": "[encoded data removed]",
      "text/plain": [
       "<matplotlib.figure.Figure at 0x7f08af450198>"
      ]
     },
     "metadata": {},
     "output_type": "display_data"
    }
   ],
   "source": [
    "pict(z[4])"
   ]
  },
  {
   "cell_type": "code",
   "execution_count": 38,
   "metadata": {
    "collapsed": false
   },
   "outputs": [
    {
     "data": {
      "image/png": "[encoded data removed]",
      "text/plain": [
       "<matplotlib.figure.Figure at 0x7f08ad1b9898>"
      ]
     },
     "metadata": {},
     "output_type": "display_data"
    }
   ],
   "source": [
    "pict(z[5])"
   ]
  },
  {
   "cell_type": "code",
   "execution_count": 39,
   "metadata": {
    "collapsed": false
   },
   "outputs": [
    {
     "data": {
      "text/plain": [
       "30.0"
      ]
     },
     "execution_count": 39,
     "metadata": {},
     "output_type": "execute_result"
    }
   ],
   "source": [
    "720/24"
   ]
  },
  {
   "cell_type": "code",
   "execution_count": 40,
   "metadata": {
    "collapsed": true
   },
   "outputs": [],
   "source": [
    "with open('Cube.csv', 'w', newline='') as f:\n",
    "    writer = csv.writer(f)\n",
    "    writer.writerows(\"C\")\n",
    "    for i in range(len(Cube)):\n",
    "        row = Cube[i] \n",
    "        writer.writerow(row)"
   ]
  },
  {
   "cell_type": "code",
   "execution_count": null,
   "metadata": {
    "collapsed": true
   },
   "outputs": [],
   "source": [
    "List_A = posA()\n",
    "with open('posA.csv', 'w', newline='') as f:\n",
    "    writer = csv.writer(f)\n",
    "    writer.writerows(\"A\")\n",
    "    for i in range(len(List_A)):\n",
    "        row = List_A[i] \n",
    "        writer.writerow(row)"
   ]
  },
  {
   "cell_type": "code",
   "execution_count": null,
   "metadata": {
    "collapsed": true
   },
   "outputs": [],
   "source": [
    "List_B = posB()\n",
    "with open('posB.csv', 'w', newline='') as f:\n",
    "    writer = csv.writer(f)\n",
    "    writer.writerows(\"B\")\n",
    "    for i in range(len(List_B)):\n",
    "        row = List_B[i] \n",
    "        writer.writerow(row)"
   ]
  },
  {
   "cell_type": "code",
   "execution_count": null,
   "metadata": {
    "collapsed": true
   },
   "outputs": [],
   "source": [
    "List_G = posG()\n",
    "with open('posG.csv', 'w', newline='') as f:\n",
    "    writer = csv.writer(f)\n",
    "    writer.writerows(\"G\")\n",
    "    for i in range(len(List_G)):\n",
    "        row = List_G[i] \n",
    "        writer.writerow(row)"
   ]
  },
  {
   "cell_type": "code",
   "execution_count": null,
   "metadata": {
    "collapsed": true
   },
   "outputs": [],
   "source": [
    "List_L = posL()\n",
    "with open('posL.csv', 'w', newline='') as f:\n",
    "    writer = csv.writer(f)\n",
    "    writer.writerows(\"L\")\n",
    "    for i in range(len(List_L)):\n",
    "        row = List_L[i] \n",
    "        writer.writerow(row)"
   ]
  },
  {
   "cell_type": "code",
   "execution_count": null,
   "metadata": {
    "collapsed": true
   },
   "outputs": [],
   "source": [
    "List_T = posT()\n",
    "with open('posT.csv', 'w', newline='') as f:\n",
    "    writer = csv.writer(f)\n",
    "    writer.writerows(\"T\")\n",
    "    for i in range(len(List_T)):\n",
    "        row = List_T[i] \n",
    "        writer.writerow(row)"
   ]
  },
  {
   "cell_type": "code",
   "execution_count": null,
   "metadata": {
    "collapsed": true
   },
   "outputs": [],
   "source": [
    "List_Z = posZ()\n",
    "with open('posZ.csv', 'w', newline='') as f:\n",
    "    writer = csv.writer(f)\n",
    "    writer.writerows(\"Z\")\n",
    "    for i in range(len(List_Z)):\n",
    "        row = List_Z[i] \n",
    "        writer.writerow(row)"
   ]
  },
  {
   "cell_type": "code",
   "execution_count": null,
   "metadata": {
    "collapsed": false
   },
   "outputs": [],
   "source": []
  },
  {
   "cell_type": "code",
   "execution_count": null,
   "metadata": {
    "collapsed": false
   },
   "outputs": [],
   "source": [
    "pict(Z)"
   ]
  },
  {
   "cell_type": "code",
   "execution_count": null,
   "metadata": {
    "collapsed": false
   },
   "outputs": [],
   "source": [
    "pict(List_Z[27])"
   ]
  },
  {
   "cell_type": "code",
   "execution_count": null,
   "metadata": {
    "collapsed": false
   },
   "outputs": [],
   "source": [
    "list2d = [[1,2,3],[4,5,6], [7], [8,9]]\n",
    "merged = list(itertools.chain(*list2d))"
   ]
  },
  {
   "cell_type": "code",
   "execution_count": null,
   "metadata": {
    "collapsed": false
   },
   "outputs": [],
   "source": [
    "merged\n"
   ]
  },
  {
   "cell_type": "code",
   "execution_count": null,
   "metadata": {
    "collapsed": true
   },
   "outputs": [],
   "source": []
  }
 ],
 "metadata": {
  "kernelspec": {
   "display_name": "Python 3",
   "language": "python",
   "name": "python3"
  },
  "language_info": {
   "codemirror_mode": {
    "name": "ipython",
    "version": 3
   },
   "file_extension": ".py",
   "mimetype": "text/x-python",
   "name": "python",
   "nbconvert_exporter": "python",
   "pygments_lexer": "ipython3",
   "version": "3.5.4"
  }
 },
 "nbformat": 4,
 "nbformat_minor": 1
}
